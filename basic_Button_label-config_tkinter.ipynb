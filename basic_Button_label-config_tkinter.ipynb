{
 "cells": [
  {
   "cell_type": "code",
   "execution_count": 1,
   "metadata": {},
   "outputs": [],
   "source": [
    "from tkinter import *"
   ]
  },
  {
   "cell_type": "code",
   "execution_count": 2,
   "metadata": {},
   "outputs": [],
   "source": [
    "def min_():\n",
    "    l = list(map(int, entry.get().split(\" \"))) \n",
    "    label.config(text = str(min(l))) # изменение параметра поля\n",
    "    label.pack()\n",
    "\n",
    "def max_():\n",
    "    l = list(map(int, entry.get().split(\" \")))\n",
    "    label.config(text = str(max(l)))\n",
    "    label.pack()\n",
    "\n",
    "def delete_():\n",
    "    index = -1\n",
    "    l = list(map(int, entry.get().split(\" \")))\n",
    "    root_1 = Tk()\n",
    "    root_1.title(\" \") \n",
    "    root_1.geometry('100x100') \n",
    "    list_text = Label(root_1, text = \"input index:\")\n",
    "    list_text.pack() \n",
    "    entry_1 = Entry(root_1) \n",
    "    entry_1.pack() \n",
    "    def get_and_del():\n",
    "        nonlocal index \n",
    "        index = int(entry_1.get())\n",
    "        root_1.destroy()\n",
    "        del l[index]\n",
    "        entry.delete(0, last = END)\n",
    "        entry.insert(0, \" \".join(list(map(str, l))))\n",
    "    Button(root_1, text=\"find and delete\", command = get_and_del).pack()\n",
    "    root_1.mainloop()\n",
    "\n",
    "def check_():\n",
    "    elem = -1\n",
    "    l = list(map(int, entry.get().split(\" \")))\n",
    "    root_2 = Tk()\n",
    "    root_2.title(\" \") \n",
    "    root_2.geometry('100x100') \n",
    "    list_text = Label(root_2, text = \"input element:\")\n",
    "    list_text.pack() \n",
    "    entry_2 = Entry(root_2) \n",
    "    entry_2.pack() \n",
    "\n",
    "    def check_1():\n",
    "        nonlocal elem\n",
    "        elem = int(entry_2.get())\n",
    "        root_2.destroy()\n",
    "        if elem in l:\n",
    "             label.config(text = \"is in the list\")\n",
    "        else:\n",
    "            label.config(text = \"is not in the list\")\n",
    "        label.pack()\n",
    "\n",
    "    Button(root_2, text=\"Check\", command = check_1).pack()\n",
    "    root_2.mainloop()\n"
   ]
  },
  {
   "cell_type": "code",
   "execution_count": null,
   "metadata": {},
   "outputs": [],
   "source": [
    "root=Tk() # вызов окна\n",
    "root.title(\"List\") # название\n",
    "root.geometry('500x200') # размер\n",
    "list_text = Label(root, text = \"List:\") # текст внутри окна\n",
    "list_text.pack() # упаковка в окно\n",
    "entry = Entry(root) # поле ввода\n",
    "entry.pack() # упаковка\n",
    "# текстовое git remote add origin https://github.com/maxim1770/basic_Button_label-config_tkinter.gitполе\n",
    "label = Label(root, text=\" \")\n",
    "\n",
    "\n",
    "\n",
    "Button(root, text=\"min\", command = min_).pack()\n",
    "Button(root, text=\"max\", command = max_).pack()\n",
    "Button(root, text=\"delete\", command = delete_).pack()\n",
    "Button(root, text=\"check element\", command = check_).pack()\n",
    "\n",
    "root.mainloop()\n"
   ]
  }
 ],
 "metadata": {
  "kernelspec": {
   "display_name": "Python 3.9.7 ('base')",
   "language": "python",
   "name": "python3"
  },
  "language_info": {
   "codemirror_mode": {
    "name": "ipython",
    "version": 3
   },
   "file_extension": ".py",
   "mimetype": "text/x-python",
   "name": "python",
   "nbconvert_exporter": "python",
   "pygments_lexer": "ipython3",
   "version": "3.9.7"
  },
  "orig_nbformat": 4,
  "vscode": {
   "interpreter": {
    "hash": "1bc342da20f6f38dcb8ca582bfbdfa6235f2efb3475ada79a69f540a27e276eb"
   }
  }
 },
 "nbformat": 4,
 "nbformat_minor": 2
}
